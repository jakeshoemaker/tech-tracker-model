{
 "cells": [
  {
   "cell_type": "markdown",
   "id": "several-turkey",
   "metadata": {},
   "source": [
    "### Importing libraries"
   ]
  },
  {
   "cell_type": "code",
   "execution_count": 1,
   "id": "least-bolivia",
   "metadata": {},
   "outputs": [],
   "source": [
    "from datetime import date, timedelta\n",
    "from keras.models import Sequential\n",
    "from keras.layers import LSTM, Dense\n",
    "import math\n",
    "import matplotlib.pyplot as plt\n",
    "import numpy as np\n",
    "import pandas as pd\n",
    "import pandas_datareader as webreader\n",
    "from sklearn.metrics import mean_absolute_error, mean_squared_error\n",
    "from sklearn.model_selection import train_test_split\n",
    "from sklearn.preprocessing import MinMaxScaler"
   ]
  },
  {
   "cell_type": "code",
   "execution_count": 2,
   "id": "burning-friendship",
   "metadata": {},
   "outputs": [
    {
     "data": {
      "text/html": [
       "<div>\n",
       "<style scoped>\n",
       "    .dataframe tbody tr th:only-of-type {\n",
       "        vertical-align: middle;\n",
       "    }\n",
       "\n",
       "    .dataframe tbody tr th {\n",
       "        vertical-align: top;\n",
       "    }\n",
       "\n",
       "    .dataframe thead th {\n",
       "        text-align: right;\n",
       "    }\n",
       "</style>\n",
       "<table border=\"1\" class=\"dataframe\">\n",
       "  <thead>\n",
       "    <tr style=\"text-align: right;\">\n",
       "      <th></th>\n",
       "      <th>High</th>\n",
       "      <th>Low</th>\n",
       "      <th>Open</th>\n",
       "      <th>Close</th>\n",
       "      <th>Volume</th>\n",
       "      <th>Adj Close</th>\n",
       "    </tr>\n",
       "    <tr>\n",
       "      <th>Date</th>\n",
       "      <th></th>\n",
       "      <th></th>\n",
       "      <th></th>\n",
       "      <th></th>\n",
       "      <th></th>\n",
       "      <th></th>\n",
       "    </tr>\n",
       "  </thead>\n",
       "  <tbody>\n",
       "    <tr>\n",
       "      <th>2010-01-04</th>\n",
       "      <td>1133.869995</td>\n",
       "      <td>1116.560059</td>\n",
       "      <td>1116.560059</td>\n",
       "      <td>1132.989990</td>\n",
       "      <td>3991400000</td>\n",
       "      <td>1132.989990</td>\n",
       "    </tr>\n",
       "    <tr>\n",
       "      <th>2010-01-05</th>\n",
       "      <td>1136.630005</td>\n",
       "      <td>1129.660034</td>\n",
       "      <td>1132.660034</td>\n",
       "      <td>1136.520020</td>\n",
       "      <td>2491020000</td>\n",
       "      <td>1136.520020</td>\n",
       "    </tr>\n",
       "    <tr>\n",
       "      <th>2010-01-06</th>\n",
       "      <td>1139.189941</td>\n",
       "      <td>1133.949951</td>\n",
       "      <td>1135.709961</td>\n",
       "      <td>1137.140015</td>\n",
       "      <td>4972660000</td>\n",
       "      <td>1137.140015</td>\n",
       "    </tr>\n",
       "    <tr>\n",
       "      <th>2010-01-07</th>\n",
       "      <td>1142.459961</td>\n",
       "      <td>1131.319946</td>\n",
       "      <td>1136.270020</td>\n",
       "      <td>1141.689941</td>\n",
       "      <td>5270680000</td>\n",
       "      <td>1141.689941</td>\n",
       "    </tr>\n",
       "    <tr>\n",
       "      <th>2010-01-08</th>\n",
       "      <td>1145.390015</td>\n",
       "      <td>1136.219971</td>\n",
       "      <td>1140.520020</td>\n",
       "      <td>1144.979980</td>\n",
       "      <td>4389590000</td>\n",
       "      <td>1144.979980</td>\n",
       "    </tr>\n",
       "    <tr>\n",
       "      <th>...</th>\n",
       "      <td>...</td>\n",
       "      <td>...</td>\n",
       "      <td>...</td>\n",
       "      <td>...</td>\n",
       "      <td>...</td>\n",
       "      <td>...</td>\n",
       "    </tr>\n",
       "    <tr>\n",
       "      <th>2021-04-19</th>\n",
       "      <td>4180.810059</td>\n",
       "      <td>4150.470215</td>\n",
       "      <td>4179.799805</td>\n",
       "      <td>4163.259766</td>\n",
       "      <td>3788020000</td>\n",
       "      <td>4163.259766</td>\n",
       "    </tr>\n",
       "    <tr>\n",
       "      <th>2021-04-20</th>\n",
       "      <td>4159.180176</td>\n",
       "      <td>4118.379883</td>\n",
       "      <td>4159.180176</td>\n",
       "      <td>4134.939941</td>\n",
       "      <td>4338230000</td>\n",
       "      <td>4134.939941</td>\n",
       "    </tr>\n",
       "    <tr>\n",
       "      <th>2021-04-21</th>\n",
       "      <td>4175.020020</td>\n",
       "      <td>4126.350098</td>\n",
       "      <td>4128.419922</td>\n",
       "      <td>4173.419922</td>\n",
       "      <td>3865820000</td>\n",
       "      <td>4173.419922</td>\n",
       "    </tr>\n",
       "    <tr>\n",
       "      <th>2021-04-22</th>\n",
       "      <td>4179.569824</td>\n",
       "      <td>4123.689941</td>\n",
       "      <td>4170.459961</td>\n",
       "      <td>4134.979980</td>\n",
       "      <td>4235040000</td>\n",
       "      <td>4134.979980</td>\n",
       "    </tr>\n",
       "    <tr>\n",
       "      <th>2021-04-23</th>\n",
       "      <td>4194.169922</td>\n",
       "      <td>4138.779785</td>\n",
       "      <td>4138.779785</td>\n",
       "      <td>4180.169922</td>\n",
       "      <td>3568080000</td>\n",
       "      <td>4180.169922</td>\n",
       "    </tr>\n",
       "  </tbody>\n",
       "</table>\n",
       "<p>2846 rows × 6 columns</p>\n",
       "</div>"
      ],
      "text/plain": [
       "                   High          Low         Open        Close      Volume  \\\n",
       "Date                                                                         \n",
       "2010-01-04  1133.869995  1116.560059  1116.560059  1132.989990  3991400000   \n",
       "2010-01-05  1136.630005  1129.660034  1132.660034  1136.520020  2491020000   \n",
       "2010-01-06  1139.189941  1133.949951  1135.709961  1137.140015  4972660000   \n",
       "2010-01-07  1142.459961  1131.319946  1136.270020  1141.689941  5270680000   \n",
       "2010-01-08  1145.390015  1136.219971  1140.520020  1144.979980  4389590000   \n",
       "...                 ...          ...          ...          ...         ...   \n",
       "2021-04-19  4180.810059  4150.470215  4179.799805  4163.259766  3788020000   \n",
       "2021-04-20  4159.180176  4118.379883  4159.180176  4134.939941  4338230000   \n",
       "2021-04-21  4175.020020  4126.350098  4128.419922  4173.419922  3865820000   \n",
       "2021-04-22  4179.569824  4123.689941  4170.459961  4134.979980  4235040000   \n",
       "2021-04-23  4194.169922  4138.779785  4138.779785  4180.169922  3568080000   \n",
       "\n",
       "              Adj Close  \n",
       "Date                     \n",
       "2010-01-04  1132.989990  \n",
       "2010-01-05  1136.520020  \n",
       "2010-01-06  1137.140015  \n",
       "2010-01-07  1141.689941  \n",
       "2010-01-08  1144.979980  \n",
       "...                 ...  \n",
       "2021-04-19  4163.259766  \n",
       "2021-04-20  4134.939941  \n",
       "2021-04-21  4173.419922  \n",
       "2021-04-22  4134.979980  \n",
       "2021-04-23  4180.169922  \n",
       "\n",
       "[2846 rows x 6 columns]"
      ]
     },
     "execution_count": 2,
     "metadata": {},
     "output_type": "execute_result"
    }
   ],
   "source": [
    "# get today's date for data extraction\n",
    "today = date.today().strftime(r\"%Y-%m-%d\")\n",
    "start_date = \"2010-01-01\"\n",
    "\n",
    "# getting s&p500 market data to train on\n",
    "stockname = \"S&P500\"\n",
    "symbol = '^GSPC'\n",
    "df = webreader.DataReader(symbol, start=start_date, end=today, data_source=\"yahoo\")\n",
    "df"
   ]
  },
  {
   "cell_type": "markdown",
   "id": "compliant-pharmacy",
   "metadata": {},
   "source": [
    "getting data we want to use"
   ]
  },
  {
   "cell_type": "code",
   "execution_count": 3,
   "id": "bottom-pound",
   "metadata": {},
   "outputs": [],
   "source": [
    "data = df.filter(['Close'])\n",
    "np_data = data.values\n",
    "# get num rows to split training data\n",
    "training_data_length = math.ceil(len(np_data) * .80)\n",
    "scaler = MinMaxScaler(feature_range=(0, 1))\n",
    "scaled_data = scaler.fit_transform(np_data)\n"
   ]
  },
  {
   "cell_type": "code",
   "execution_count": 4,
   "id": "preceding-dispute",
   "metadata": {},
   "outputs": [
    {
     "data": {
      "text/plain": [
       "array([[0.03490794],\n",
       "       [0.03602401],\n",
       "       [0.03622004],\n",
       "       ...,\n",
       "       [0.9961901 ],\n",
       "       [0.98403668],\n",
       "       [0.99832422]])"
      ]
     },
     "execution_count": 4,
     "metadata": {},
     "output_type": "execute_result"
    }
   ],
   "source": [
    "scaled_data"
   ]
  },
  {
   "cell_type": "markdown",
   "id": "perceived-tanzania",
   "metadata": {},
   "source": [
    "### Data Preprocessing"
   ]
  },
  {
   "cell_type": "code",
   "execution_count": 5,
   "id": "continent-outside",
   "metadata": {},
   "outputs": [
    {
     "name": "stdout",
     "output_type": "stream",
     "text": [
      "(2177, 100, 1)\n",
      "(2177,)\n"
     ]
    }
   ],
   "source": [
    "# data pre-processing --> need to split the data into mini batches\n",
    "train_data = scaled_data[0:training_data_length, :]\n",
    "\n",
    "# Split the data into x_train and y_train data sets\n",
    "x_train = []\n",
    "y_train = []\n",
    "trainingdatasize = len(train_data) \n",
    "for i in range(100, trainingdatasize):\n",
    "    x_train.append(train_data[i-100: i, 0]) #contains 100 values 0-100\n",
    "    y_train.append(train_data[i, 0]) #contains all other values\n",
    "\n",
    "# Convert the x_train and y_train to numpy arrays\n",
    "x_train = np.array(x_train)\n",
    "y_train = np.array(y_train)\n",
    "\n",
    "# Reshape the data\n",
    "x_train = np.reshape(x_train, (x_train.shape[0], x_train.shape[1], 1))\n",
    "print(x_train.shape)\n",
    "print(y_train.shape)"
   ]
  },
  {
   "cell_type": "markdown",
   "id": "later-livestock",
   "metadata": {},
   "source": [
    "## Model Architecture"
   ]
  },
  {
   "cell_type": "code",
   "execution_count": 6,
   "id": "robust-tokyo",
   "metadata": {},
   "outputs": [
    {
     "name": "stdout",
     "output_type": "stream",
     "text": [
      "model compiled\n"
     ]
    }
   ],
   "source": [
    "model = Sequential()\n",
    "\n",
    "# Model with 100 nuerons - input shape = 100 timestamps\n",
    "model.add(LSTM(100, return_sequences=True, input_shape=(x_train.shape[1], 1)))\n",
    "model.add(LSTM(100, return_sequences=False))\n",
    "model.add(Dense(25, activation='relu'))\n",
    "model.add(Dense(1))\n",
    "\n",
    "# compile model\n",
    "model.compile(optimizer='adam', loss='mean_squared_error')\n",
    "print(\"model compiled\")\n"
   ]
  },
  {
   "cell_type": "markdown",
   "id": "ruled-bernard",
   "metadata": {},
   "source": [
    "### Training the model"
   ]
  },
  {
   "cell_type": "code",
   "execution_count": 7,
   "id": "united-poultry",
   "metadata": {},
   "outputs": [
    {
     "name": "stdout",
     "output_type": "stream",
     "text": [
      "Epoch 1/25\n",
      "137/137 [==============================] - 7s 54ms/step - loss: 0.0039\n",
      "Epoch 2/25\n",
      "137/137 [==============================] - 7s 49ms/step - loss: 1.5531e-04\n",
      "Epoch 3/25\n",
      "137/137 [==============================] - 7s 48ms/step - loss: 1.4685e-04\n",
      "Epoch 4/25\n",
      "137/137 [==============================] - 6s 47ms/step - loss: 1.5289e-04\n",
      "Epoch 5/25\n",
      "137/137 [==============================] - 7s 48ms/step - loss: 1.5689e-04\n",
      "Epoch 6/25\n",
      "137/137 [==============================] - 7s 48ms/step - loss: 1.4802e-04\n",
      "Epoch 7/25\n",
      "137/137 [==============================] - 7s 48ms/step - loss: 1.2678e-04\n",
      "Epoch 8/25\n",
      "137/137 [==============================] - 7s 49ms/step - loss: 1.2492e-04\n",
      "Epoch 9/25\n",
      "137/137 [==============================] - 7s 48ms/step - loss: 1.2822e-04\n",
      "Epoch 10/25\n",
      "137/137 [==============================] - 7s 49ms/step - loss: 1.3309e-04\n",
      "Epoch 11/25\n",
      "137/137 [==============================] - 7s 49ms/step - loss: 1.4753e-04\n",
      "Epoch 12/25\n",
      "137/137 [==============================] - 7s 49ms/step - loss: 1.0745e-04\n",
      "Epoch 13/25\n",
      "137/137 [==============================] - 7s 48ms/step - loss: 1.1280e-04\n",
      "Epoch 14/25\n",
      "137/137 [==============================] - 7s 48ms/step - loss: 1.0622e-04\n",
      "Epoch 15/25\n",
      "137/137 [==============================] - 7s 48ms/step - loss: 1.1106e-04\n",
      "Epoch 16/25\n",
      "137/137 [==============================] - 7s 49ms/step - loss: 1.2406e-04\n",
      "Epoch 17/25\n",
      "137/137 [==============================] - 7s 48ms/step - loss: 9.7214e-05\n",
      "Epoch 18/25\n",
      "137/137 [==============================] - 7s 48ms/step - loss: 8.4803e-05: 1s - lo\n",
      "Epoch 19/25\n",
      "137/137 [==============================] - 7s 48ms/step - loss: 9.8575e-05\n",
      "Epoch 20/25\n",
      "137/137 [==============================] - 7s 48ms/step - loss: 7.9554e-05\n",
      "Epoch 21/25\n",
      "137/137 [==============================] - 7s 48ms/step - loss: 8.5470e-05\n",
      "Epoch 22/25\n",
      "137/137 [==============================] - 7s 48ms/step - loss: 7.3546e-05\n",
      "Epoch 23/25\n",
      "137/137 [==============================] - 7s 48ms/step - loss: 7.9121e-05\n",
      "Epoch 24/25\n",
      "137/137 [==============================] - 7s 49ms/step - loss: 7.7035e-05\n",
      "Epoch 25/25\n",
      "137/137 [==============================] - 7s 49ms/step - loss: 7.7522e-05\n"
     ]
    },
    {
     "data": {
      "text/plain": [
       "<tensorflow.python.keras.callbacks.History at 0x208df4533d0>"
      ]
     },
     "execution_count": 7,
     "metadata": {},
     "output_type": "execute_result"
    }
   ],
   "source": [
    "model.fit(x_train, y_train, batch_size=16, epochs=25)"
   ]
  },
  {
   "cell_type": "markdown",
   "id": "dangerous-increase",
   "metadata": {},
   "source": [
    "### Getting test predictions"
   ]
  },
  {
   "cell_type": "code",
   "execution_count": 9,
   "id": "sealed-luxury",
   "metadata": {},
   "outputs": [],
   "source": [
    "# Create a new array containing scaled test values\n",
    "test_data = scaled_data[training_data_length - 100:, :]\n",
    "\n",
    "# Create the data sets x_test and y_test\n",
    "x_test = []\n",
    "y_test = np_data[training_data_length:, :]\n",
    "for i in range(100, len(test_data)):\n",
    "    x_test.append(test_data[i-100:i, 0])\n",
    "\n",
    "# Convert the data to a numpy array\n",
    "x_test = np.array(x_test)\n",
    "\n",
    "# Reshape the data, so that we get an array with multiple test datasets\n",
    "x_test = np.reshape(x_test, (x_test.shape[0], x_test.shape[1], 1))"
   ]
  },
  {
   "cell_type": "code",
   "execution_count": 11,
   "id": "technological-charter",
   "metadata": {},
   "outputs": [],
   "source": [
    "predictions = model.predict(x_test)\n",
    "predictions = scaler.inverse_transform(predictions)"
   ]
  },
  {
   "cell_type": "code",
   "execution_count": 12,
   "id": "cross-alfred",
   "metadata": {},
   "outputs": [
    {
     "name": "stdout",
     "output_type": "stream",
     "text": [
      "MAE: 39.2\n",
      "RMSE: 11.1\n"
     ]
    }
   ],
   "source": [
    "mae = mean_absolute_error(predictions, y_test)\n",
    "print('MAE: ' + str(round(mae, 1)))\n",
    "rmse = np.sqrt(np.mean(predictions - y_test) ** 2)\n",
    "print('RMSE: ' + str(round(rmse, 1)))"
   ]
  },
  {
   "cell_type": "markdown",
   "id": "published-exposure",
   "metadata": {},
   "source": [
    "### Understanding the results:\n",
    "- the model tends to predict on the pessimistic side, but in terms of the RMSE , it means that the predictions are mostly right for the most part."
   ]
  },
  {
   "cell_type": "markdown",
   "id": "virgin-briefs",
   "metadata": {},
   "source": [
    "### Visualizing the model's performance"
   ]
  },
  {
   "cell_type": "code",
   "execution_count": 13,
   "id": "adjusted-timer",
   "metadata": {},
   "outputs": [
    {
     "data": {
      "image/png": "[encoded data removed]",
      "text/plain": [
       "<Figure size 1584x576 with 1 Axes>"
      ]
     },
     "metadata": {
      "needs_background": "light"
     },
     "output_type": "display_data"
    }
   ],
   "source": [
    "# The date from which on the date is displayed\n",
    "display_start_date = \"2018-01-01\" \n",
    "\n",
    "# Add the difference between the valid and predicted prices\n",
    "train = data[:training_data_length + 1]\n",
    "valid = data[training_data_length:]\n",
    "valid.insert(1, \"Predictions\", predictions, True)\n",
    "valid.insert(1, \"Difference\", valid[\"Predictions\"] - valid[\"Close\"], True)\n",
    "\n",
    "# Zoom in to a closer timeframe\n",
    "valid = valid[valid.index > display_start_date]\n",
    "train = train[train.index > display_start_date]\n",
    "\n",
    "# Visualize the data\n",
    "fig, ax1 = plt.subplots(figsize=(22, 8), sharex=True)\n",
    "xt = train.index; yt = train[[\"Close\"]]\n",
    "xv = valid.index; yv = valid[[\"Close\", \"Predictions\"]]\n",
    "plt.title(\"Predictions vs Ground Truth\", fontsize=20)\n",
    "plt.ylabel(stockname, fontsize=18)\n",
    "plt.plot(yt, color=\"#039dfc\", linewidth=2.0)\n",
    "plt.plot(yv[\"Predictions\"], color=\"#E91D9E\", linewidth=2.0)\n",
    "plt.plot(yv[\"Close\"], color=\"black\", linewidth=2.0)\n",
    "plt.legend([\"Train\", \"Train Predictions\", \"Ground Truth\"], loc=\"upper left\")\n",
    "\n",
    "# Fill between plotlines\n",
    "ax1.fill_between(xt, 0, yt[\"Close\"], color=\"#b9e1fa\")\n",
    "ax1.fill_between(xv, 0, yv[\"Predictions\"], color=\"#F0845C\")\n",
    "ax1.fill_between(xv, yv[\"Close\"], yv[\"Predictions\"], color=\"grey\") \n",
    "\n",
    "# Create the bar plot with the differences\n",
    "x = valid.index\n",
    "y = valid[\"Difference\"]\n",
    "plt.bar(x, y, width=5, color=\"black\")\n",
    "plt.grid()\n",
    "plt.show()"
   ]
  },
  {
   "cell_type": "markdown",
   "id": "historical-sheet",
   "metadata": {},
   "source": [
    "## Predicting a single day ahead"
   ]
  },
  {
   "cell_type": "code",
   "execution_count": 19,
   "id": "stupid-quantum",
   "metadata": {},
   "outputs": [
    {
     "name": "stdout",
     "output_type": "stream",
     "text": [
      "The price for S&P500 at 2021-04-25 was: 4180\n",
      "The predicted S&P500 price at date 2021-04-26 is: 4085.0\n"
     ]
    }
   ],
   "source": [
    "# Get fresh data until today and create a new dataframe with only the price data\n",
    "price_quote = webreader.DataReader(symbol, data_source='yahoo', start=start_date, end=today)\n",
    "new_df = price_quote.filter(['Close'])\n",
    "\n",
    "# Get the last 100 day closing price values and scale the data to be values between 0 and 1\n",
    "last_100_days = new_df[-100:].values\n",
    "last_100_days_scaled = scaler.transform(new_df[-100:].values)\n",
    "\n",
    "# Create an empty list and Append past 100 days\n",
    "X_test = []\n",
    "X_test.append(last_100_days_scaled)\n",
    "\n",
    "# Convert the X_test data set to a numpy array and reshape the data\n",
    "X_test = np.array(X_test)\n",
    "X_test = np.reshape(X_test, (X_test.shape[0], X_test.shape[1], 1))\n",
    "\n",
    "# Get the predicted scaled price, undo the scaling and output the predictions\n",
    "pred_price = model.predict(X_test)\n",
    "pred_price = scaler.inverse_transform(pred_price)\n",
    "date_tomorrow = date.today() + timedelta(days=1)\n",
    "print('The price for ' + stockname + ' at ' + today + ' was: ' + str(round(df.at[df.index.max(), 'Close'])))\n",
    "print('The predicted ' + stockname + ' price at date ' + str(date_tomorrow) + ' is: ' + str(round(pred_price[0, 0], 0)))"
   ]
  },
  {
   "cell_type": "markdown",
   "id": "pending-script",
   "metadata": {},
   "source": [
    "## Serializing the model"
   ]
  },
  {
   "cell_type": "code",
   "execution_count": 21,
   "id": "canadian-string",
   "metadata": {},
   "outputs": [
    {
     "name": "stdout",
     "output_type": "stream",
     "text": [
      "WARNING:tensorflow:From C:\\Users\\jakes\\miniconda3\\envs\\stock-researcher\\lib\\site-packages\\tensorflow\\python\\training\\tracking\\tracking.py:111: Model.state_updates (from tensorflow.python.keras.engine.training) is deprecated and will be removed in a future version.\n",
      "Instructions for updating:\n",
      "This property should not be used in TensorFlow 2.0, as updates are applied automatically.\n",
      "WARNING:tensorflow:From C:\\Users\\jakes\\miniconda3\\envs\\stock-researcher\\lib\\site-packages\\tensorflow\\python\\training\\tracking\\tracking.py:111: Layer.updates (from tensorflow.python.keras.engine.base_layer) is deprecated and will be removed in a future version.\n",
      "Instructions for updating:\n",
      "This property should not be used in TensorFlow 2.0, as updates are applied automatically.\n",
      "INFO:tensorflow:Assets written to: s&p500_model\\assets\n"
     ]
    }
   ],
   "source": [
    "model.save(\"s&p500_model\")\n",
    "model.save_weights(\"s&p500_model_weights.h5\")\n",
    "\n",
    "## to load: \n",
    "#from tensorflow import keras\n",
    "#my_model = keras.models.load_model('s&p500_model')\n",
    "#my_model.load_weights(\"s&p500_model_weights.h5\")"
   ]
  },
  {
   "cell_type": "code",
   "execution_count": null,
   "id": "serious-presentation",
   "metadata": {},
   "outputs": [],
   "source": []
  }
 ],
 "metadata": {
  "kernelspec": {
   "display_name": "Python 3",
   "language": "python",
   "name": "python3"
  },
  "language_info": {
   "codemirror_mode": {
    "name": "ipython",
    "version": 3
   },
   "file_extension": ".py",
   "mimetype": "text/x-python",
   "name": "python",
   "nbconvert_exporter": "python",
   "pygments_lexer": "ipython3",
   "version": "3.8.8"
  }
 },
 "nbformat": 4,
 "nbformat_minor": 5
}
